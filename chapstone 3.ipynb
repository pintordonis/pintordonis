{
 "cells": [
  {
   "cell_type": "markdown",
   "id": "63648642-e06e-4543-a7bc-aae994ae401c",
   "metadata": {},
   "source": [
    "# Bike Sharing"
   ]
  },
  {
   "cell_type": "markdown",
   "id": "998810ed-5ab2-41f0-89ae-663bff3186bf",
   "metadata": {},
   "source": [
    "## Business Problem\n",
    "---\n",
    "Gaya hidup yang sehat banyak diminati kebanyakan orang, dari yang muda sampai yang tua. Sering berolah raga merupakan gaya hidup yang sehat. Salah satu cara untuk berolah raga adalah dengan bersepeda. Peminat pesepeda pun semakin banyak, dengan beragamnya jenis sepeda yang beredar di masyarakat. Bersepeda merupakan aktivitas yang dilakukan diluar ruangan. Oleh karena itu, cuaca, musim dan kondisi diluar ruangan mempengaruhi jumlah pesepeda yang berada di jalanan."
   ]
  },
  {
   "cell_type": "markdown",
   "id": "2e40687a-b911-4c67-9a72-e2454471f1c8",
   "metadata": {},
   "source": [
    "## Goals\n",
    "---\n",
    "Data set yang digunakan adalah data bike sharing, dimana data ini digunakan untuk memprediksi jumlah penyewa sepeda pada setiap musim."
   ]
  },
  {
   "cell_type": "markdown",
   "id": "6ea0e301-04ed-4f39-acf4-7c0c92279da9",
   "metadata": {},
   "source": [
    "## Machine Learning\n",
    "---\n",
    "Pada proses pembuatan machine learning sebelumnya perlu dilakukan dulu `data cleaning`, `feature selection` dan `feature engineering`.\n",
    "Pada Machine Learning yang dibuat ini menggunakan Regresi / Regression yang dimana pada hasil akhirnya akan menghasilkan prediksi jumlah sepeda yang disewa yang akan ditampilkan dengan berbagai features akan akan di input oleh user.\n",
    "Lalu pada proses pembuatan machine learning kali ini menggunakan metode **Pipeline**."
   ]
  },
  {
   "cell_type": "markdown",
   "id": "360f6cc0-3ee1-458e-93cc-c59aa47e1e0e",
   "metadata": {},
   "source": [
    "## Penggunaan Model\n",
    "---\n",
    "Untuk Model yang digunakan terdapat 4 model yaitu:\n",
    "\n",
    "- Support Vector Regression (SVR)\n",
    "- K-Nearest Neighbors (KNN)\n",
    "- Decision Tree (DTree)\n",
    "- Random Forest (RF)\n",
    "\n",
    "Dari ke 4 model tersebut nantinya model base terbaik akan dilakukan Tuning sehingga akan menghasilkan nilai yang lebih baik dalam memprediksi hasil yang diinginkan."
   ]
  },
  {
   "cell_type": "markdown",
   "id": "ec582c7c-efe0-4529-b123-14075dfb8719",
   "metadata": {},
   "source": [
    "## Conclusion dan Recommendation\n",
    "---\n",
    "Setelah model terbaik di Tuning maka akan terlihat perbedaannya, lalu setelah itu dilakukan pengecekan Error untuk melihat kapan model dapat dipercaya dan kapan model tidak dapat dipercaya, setelah itu dapat di lakukan:\n",
    "- Conclusion, yang mana menarik kesimpulan dari Machine Learning yang telah dibuat\n",
    "- Recommendation, yang mana memberi rekomendasi berdasarkan dari Conclusion yang ada, tujuannya agar dapat meningkatkan Prediksi Machine Learning yang telah dibuat agar lebih tepat dengan Error yang sedikit."
   ]
  },
  {
   "cell_type": "code",
   "execution_count": 1,
   "id": "cab8f0bb-3a6c-42c8-8ade-eda077e1f7a1",
   "metadata": {},
   "outputs": [],
   "source": [
    "# Import library yang dibutuhkan untuk eksplorasi dataset\n",
    "import pandas as pd\n",
    "import numpy as np\n",
    "import matplotlib.pyplot as plt\n",
    "import seaborn as sns\n",
    "import category_encoders as ce\n",
    "\n",
    "from sklearn.model_selection import train_test_split, KFold, cross_val_score, RandomizedSearchCV, StratifiedKFold\n",
    "from sklearn.metrics import r2_score, mean_absolute_error, mean_squared_error\n",
    "\n",
    "from sklearn.preprocessing import RobustScaler, PowerTransformer, PolynomialFeatures, OneHotEncoder\n",
    "from sklearn.compose import ColumnTransformer\n",
    "\n",
    "from sklearn.pipeline import Pipeline\n",
    "from sklearn.svm import SVR\n",
    "from sklearn.neighbors import KNeighborsRegressor\n",
    "from sklearn.tree import DecisionTreeRegressor\n",
    "from sklearn.ensemble import RandomForestRegressor\n",
    "\n",
    "import warnings\n",
    "warnings.filterwarnings('ignore')"
   ]
  },
  {
   "cell_type": "code",
   "execution_count": 2,
   "id": "1f78c495-44d4-4dd9-a0b0-a155012dc4fe",
   "metadata": {},
   "outputs": [
    {
     "data": {
      "text/html": [
       "<div>\n",
       "<style scoped>\n",
       "    .dataframe tbody tr th:only-of-type {\n",
       "        vertical-align: middle;\n",
       "    }\n",
       "\n",
       "    .dataframe tbody tr th {\n",
       "        vertical-align: top;\n",
       "    }\n",
       "\n",
       "    .dataframe thead th {\n",
       "        text-align: right;\n",
       "    }\n",
       "</style>\n",
       "<table border=\"1\" class=\"dataframe\">\n",
       "  <thead>\n",
       "    <tr style=\"text-align: right;\">\n",
       "      <th></th>\n",
       "      <th>dteday</th>\n",
       "      <th>hum</th>\n",
       "      <th>weathersit</th>\n",
       "      <th>holiday</th>\n",
       "      <th>season</th>\n",
       "      <th>atemp</th>\n",
       "      <th>temp</th>\n",
       "      <th>hr</th>\n",
       "      <th>casual</th>\n",
       "      <th>registered</th>\n",
       "      <th>cnt</th>\n",
       "    </tr>\n",
       "  </thead>\n",
       "  <tbody>\n",
       "    <tr>\n",
       "      <th>0</th>\n",
       "      <td>12/9/2011</td>\n",
       "      <td>0.62</td>\n",
       "      <td>1</td>\n",
       "      <td>0</td>\n",
       "      <td>4</td>\n",
       "      <td>0.3485</td>\n",
       "      <td>0.36</td>\n",
       "      <td>16</td>\n",
       "      <td>24</td>\n",
       "      <td>226</td>\n",
       "      <td>250</td>\n",
       "    </tr>\n",
       "    <tr>\n",
       "      <th>1</th>\n",
       "      <td>6/17/2012</td>\n",
       "      <td>0.64</td>\n",
       "      <td>1</td>\n",
       "      <td>0</td>\n",
       "      <td>2</td>\n",
       "      <td>0.5152</td>\n",
       "      <td>0.54</td>\n",
       "      <td>4</td>\n",
       "      <td>2</td>\n",
       "      <td>16</td>\n",
       "      <td>18</td>\n",
       "    </tr>\n",
       "    <tr>\n",
       "      <th>2</th>\n",
       "      <td>6/15/2011</td>\n",
       "      <td>0.53</td>\n",
       "      <td>1</td>\n",
       "      <td>0</td>\n",
       "      <td>2</td>\n",
       "      <td>0.6212</td>\n",
       "      <td>0.62</td>\n",
       "      <td>23</td>\n",
       "      <td>17</td>\n",
       "      <td>90</td>\n",
       "      <td>107</td>\n",
       "    </tr>\n",
       "    <tr>\n",
       "      <th>3</th>\n",
       "      <td>3/31/2012</td>\n",
       "      <td>0.87</td>\n",
       "      <td>2</td>\n",
       "      <td>0</td>\n",
       "      <td>2</td>\n",
       "      <td>0.3485</td>\n",
       "      <td>0.36</td>\n",
       "      <td>8</td>\n",
       "      <td>19</td>\n",
       "      <td>126</td>\n",
       "      <td>145</td>\n",
       "    </tr>\n",
       "    <tr>\n",
       "      <th>4</th>\n",
       "      <td>7/31/2012</td>\n",
       "      <td>0.55</td>\n",
       "      <td>1</td>\n",
       "      <td>0</td>\n",
       "      <td>3</td>\n",
       "      <td>0.6970</td>\n",
       "      <td>0.76</td>\n",
       "      <td>18</td>\n",
       "      <td>99</td>\n",
       "      <td>758</td>\n",
       "      <td>857</td>\n",
       "    </tr>\n",
       "  </tbody>\n",
       "</table>\n",
       "</div>"
      ],
      "text/plain": [
       "      dteday   hum  weathersit  holiday  season   atemp  temp  hr  casual  \\\n",
       "0  12/9/2011  0.62           1        0       4  0.3485  0.36  16      24   \n",
       "1  6/17/2012  0.64           1        0       2  0.5152  0.54   4       2   \n",
       "2  6/15/2011  0.53           1        0       2  0.6212  0.62  23      17   \n",
       "3  3/31/2012  0.87           2        0       2  0.3485  0.36   8      19   \n",
       "4  7/31/2012  0.55           1        0       3  0.6970  0.76  18      99   \n",
       "\n",
       "   registered  cnt  \n",
       "0         226  250  \n",
       "1          16   18  \n",
       "2          90  107  \n",
       "3         126  145  \n",
       "4         758  857  "
      ]
     },
     "execution_count": 2,
     "metadata": {},
     "output_type": "execute_result"
    }
   ],
   "source": [
    "# Load dataset\n",
    "df = pd.read_csv('data_bike_sharing.csv')\n",
    "df.head()"
   ]
  },
  {
   "cell_type": "markdown",
   "id": "96a0a9e1-33ca-49ae-91a2-0efddef0186e",
   "metadata": {
    "id": "Ax01kFWQk-A6",
    "tags": []
   },
   "source": [
    "### **Data Understanding**"
   ]
  },
  {
   "cell_type": "code",
   "execution_count": 3,
   "id": "99c969dc-3be6-45ed-b6a3-3f707a7aa979",
   "metadata": {
    "scrolled": true
   },
   "outputs": [
    {
     "data": {
      "text/html": [
       "<div>\n",
       "<style scoped>\n",
       "    .dataframe tbody tr th:only-of-type {\n",
       "        vertical-align: middle;\n",
       "    }\n",
       "\n",
       "    .dataframe tbody tr th {\n",
       "        vertical-align: top;\n",
       "    }\n",
       "\n",
       "    .dataframe thead th {\n",
       "        text-align: right;\n",
       "    }\n",
       "</style>\n",
       "<table border=\"1\" class=\"dataframe\">\n",
       "  <thead>\n",
       "    <tr style=\"text-align: right;\">\n",
       "      <th></th>\n",
       "      <th>features</th>\n",
       "      <th>DataType</th>\n",
       "      <th>Null</th>\n",
       "      <th>NullPercentage</th>\n",
       "      <th>Unique</th>\n",
       "      <th>Unique Sample</th>\n",
       "    </tr>\n",
       "  </thead>\n",
       "  <tbody>\n",
       "    <tr>\n",
       "      <th>0</th>\n",
       "      <td>dteday</td>\n",
       "      <td>object</td>\n",
       "      <td>0</td>\n",
       "      <td>0.0</td>\n",
       "      <td>731</td>\n",
       "      <td>[11/18/2012, 8/13/2012]</td>\n",
       "    </tr>\n",
       "    <tr>\n",
       "      <th>1</th>\n",
       "      <td>hum</td>\n",
       "      <td>float64</td>\n",
       "      <td>0</td>\n",
       "      <td>0.0</td>\n",
       "      <td>89</td>\n",
       "      <td>[0.97, 0.45]</td>\n",
       "    </tr>\n",
       "    <tr>\n",
       "      <th>2</th>\n",
       "      <td>weathersit</td>\n",
       "      <td>int64</td>\n",
       "      <td>0</td>\n",
       "      <td>0.0</td>\n",
       "      <td>4</td>\n",
       "      <td>[3, 1]</td>\n",
       "    </tr>\n",
       "    <tr>\n",
       "      <th>3</th>\n",
       "      <td>holiday</td>\n",
       "      <td>int64</td>\n",
       "      <td>0</td>\n",
       "      <td>0.0</td>\n",
       "      <td>2</td>\n",
       "      <td>[1, 0]</td>\n",
       "    </tr>\n",
       "    <tr>\n",
       "      <th>4</th>\n",
       "      <td>season</td>\n",
       "      <td>int64</td>\n",
       "      <td>0</td>\n",
       "      <td>0.0</td>\n",
       "      <td>4</td>\n",
       "      <td>[2, 4]</td>\n",
       "    </tr>\n",
       "    <tr>\n",
       "      <th>5</th>\n",
       "      <td>atemp</td>\n",
       "      <td>float64</td>\n",
       "      <td>0</td>\n",
       "      <td>0.0</td>\n",
       "      <td>65</td>\n",
       "      <td>[0.2879, 0.8485]</td>\n",
       "    </tr>\n",
       "    <tr>\n",
       "      <th>6</th>\n",
       "      <td>temp</td>\n",
       "      <td>float64</td>\n",
       "      <td>0</td>\n",
       "      <td>0.0</td>\n",
       "      <td>50</td>\n",
       "      <td>[0.66, 0.44]</td>\n",
       "    </tr>\n",
       "    <tr>\n",
       "      <th>7</th>\n",
       "      <td>hr</td>\n",
       "      <td>int64</td>\n",
       "      <td>0</td>\n",
       "      <td>0.0</td>\n",
       "      <td>24</td>\n",
       "      <td>[19, 3]</td>\n",
       "    </tr>\n",
       "    <tr>\n",
       "      <th>8</th>\n",
       "      <td>casual</td>\n",
       "      <td>int64</td>\n",
       "      <td>0</td>\n",
       "      <td>0.0</td>\n",
       "      <td>305</td>\n",
       "      <td>[184, 290]</td>\n",
       "    </tr>\n",
       "    <tr>\n",
       "      <th>9</th>\n",
       "      <td>registered</td>\n",
       "      <td>int64</td>\n",
       "      <td>0</td>\n",
       "      <td>0.0</td>\n",
       "      <td>742</td>\n",
       "      <td>[321, 80]</td>\n",
       "    </tr>\n",
       "    <tr>\n",
       "      <th>10</th>\n",
       "      <td>cnt</td>\n",
       "      <td>int64</td>\n",
       "      <td>0</td>\n",
       "      <td>0.0</td>\n",
       "      <td>830</td>\n",
       "      <td>[698, 40]</td>\n",
       "    </tr>\n",
       "  </tbody>\n",
       "</table>\n",
       "</div>"
      ],
      "text/plain": [
       "      features DataType  Null  NullPercentage  Unique            Unique Sample\n",
       "0       dteday   object     0             0.0     731  [11/18/2012, 8/13/2012]\n",
       "1          hum  float64     0             0.0      89             [0.97, 0.45]\n",
       "2   weathersit    int64     0             0.0       4                   [3, 1]\n",
       "3      holiday    int64     0             0.0       2                   [1, 0]\n",
       "4       season    int64     0             0.0       4                   [2, 4]\n",
       "5        atemp  float64     0             0.0      65         [0.2879, 0.8485]\n",
       "6         temp  float64     0             0.0      50             [0.66, 0.44]\n",
       "7           hr    int64     0             0.0      24                  [19, 3]\n",
       "8       casual    int64     0             0.0     305               [184, 290]\n",
       "9   registered    int64     0             0.0     742                [321, 80]\n",
       "10         cnt    int64     0             0.0     830                [698, 40]"
      ]
     },
     "execution_count": 3,
     "metadata": {},
     "output_type": "execute_result"
    }
   ],
   "source": [
    "dfDesc = []\n",
    "for i in df.columns:\n",
    "    dfDesc.append([i, \n",
    "                   df[i].dtypes, \n",
    "                   df[i].isna().sum(),\n",
    "                   round(((df[i].isna().sum() / len(df)) * 100), 2),\n",
    "                   df[i].nunique(),\n",
    "                   df[i].drop_duplicates().sample(2).values\n",
    "    ])\n",
    "pd.DataFrame(\n",
    "data=dfDesc,\n",
    "columns = [\n",
    "    'features',\n",
    "    'DataType',\n",
    "    'Null',\n",
    "    'NullPercentage',\n",
    "    'Unique',\n",
    "    'Unique Sample'\n",
    "])"
   ]
  },
  {
   "cell_type": "code",
   "execution_count": 4,
   "id": "e22ec54a",
   "metadata": {},
   "outputs": [],
   "source": [
    "df['dteday'] = pd.to_datetime(df['dteday'])"
   ]
  },
  {
   "cell_type": "code",
   "execution_count": 5,
   "id": "a8b459ac",
   "metadata": {},
   "outputs": [],
   "source": [
    "pickup_dt = df['dteday'].dt"
   ]
  },
  {
   "cell_type": "code",
   "execution_count": 6,
   "id": "e08b7d83",
   "metadata": {},
   "outputs": [],
   "source": [
    "df['year'] = pickup_dt.year ## mengambil tahun\n",
    "df['month'] = pickup_dt.month ## mengambil bulan\n",
    "df['date'] = pickup_dt.day ## mengambil tanggal"
   ]
  },
  {
   "cell_type": "code",
   "execution_count": 7,
   "id": "12063557",
   "metadata": {},
   "outputs": [
    {
     "data": {
      "text/html": [
       "<div>\n",
       "<style scoped>\n",
       "    .dataframe tbody tr th:only-of-type {\n",
       "        vertical-align: middle;\n",
       "    }\n",
       "\n",
       "    .dataframe tbody tr th {\n",
       "        vertical-align: top;\n",
       "    }\n",
       "\n",
       "    .dataframe thead th {\n",
       "        text-align: right;\n",
       "    }\n",
       "</style>\n",
       "<table border=\"1\" class=\"dataframe\">\n",
       "  <thead>\n",
       "    <tr style=\"text-align: right;\">\n",
       "      <th></th>\n",
       "      <th>dteday</th>\n",
       "      <th>hum</th>\n",
       "      <th>weathersit</th>\n",
       "      <th>holiday</th>\n",
       "      <th>season</th>\n",
       "      <th>atemp</th>\n",
       "      <th>temp</th>\n",
       "      <th>hr</th>\n",
       "      <th>casual</th>\n",
       "      <th>registered</th>\n",
       "      <th>cnt</th>\n",
       "      <th>year</th>\n",
       "      <th>month</th>\n",
       "      <th>date</th>\n",
       "    </tr>\n",
       "  </thead>\n",
       "  <tbody>\n",
       "    <tr>\n",
       "      <th>0</th>\n",
       "      <td>2011-12-09</td>\n",
       "      <td>0.62</td>\n",
       "      <td>1</td>\n",
       "      <td>0</td>\n",
       "      <td>4</td>\n",
       "      <td>0.3485</td>\n",
       "      <td>0.36</td>\n",
       "      <td>16</td>\n",
       "      <td>24</td>\n",
       "      <td>226</td>\n",
       "      <td>250</td>\n",
       "      <td>2011</td>\n",
       "      <td>12</td>\n",
       "      <td>9</td>\n",
       "    </tr>\n",
       "    <tr>\n",
       "      <th>1</th>\n",
       "      <td>2012-06-17</td>\n",
       "      <td>0.64</td>\n",
       "      <td>1</td>\n",
       "      <td>0</td>\n",
       "      <td>2</td>\n",
       "      <td>0.5152</td>\n",
       "      <td>0.54</td>\n",
       "      <td>4</td>\n",
       "      <td>2</td>\n",
       "      <td>16</td>\n",
       "      <td>18</td>\n",
       "      <td>2012</td>\n",
       "      <td>6</td>\n",
       "      <td>17</td>\n",
       "    </tr>\n",
       "    <tr>\n",
       "      <th>2</th>\n",
       "      <td>2011-06-15</td>\n",
       "      <td>0.53</td>\n",
       "      <td>1</td>\n",
       "      <td>0</td>\n",
       "      <td>2</td>\n",
       "      <td>0.6212</td>\n",
       "      <td>0.62</td>\n",
       "      <td>23</td>\n",
       "      <td>17</td>\n",
       "      <td>90</td>\n",
       "      <td>107</td>\n",
       "      <td>2011</td>\n",
       "      <td>6</td>\n",
       "      <td>15</td>\n",
       "    </tr>\n",
       "    <tr>\n",
       "      <th>3</th>\n",
       "      <td>2012-03-31</td>\n",
       "      <td>0.87</td>\n",
       "      <td>2</td>\n",
       "      <td>0</td>\n",
       "      <td>2</td>\n",
       "      <td>0.3485</td>\n",
       "      <td>0.36</td>\n",
       "      <td>8</td>\n",
       "      <td>19</td>\n",
       "      <td>126</td>\n",
       "      <td>145</td>\n",
       "      <td>2012</td>\n",
       "      <td>3</td>\n",
       "      <td>31</td>\n",
       "    </tr>\n",
       "    <tr>\n",
       "      <th>4</th>\n",
       "      <td>2012-07-31</td>\n",
       "      <td>0.55</td>\n",
       "      <td>1</td>\n",
       "      <td>0</td>\n",
       "      <td>3</td>\n",
       "      <td>0.6970</td>\n",
       "      <td>0.76</td>\n",
       "      <td>18</td>\n",
       "      <td>99</td>\n",
       "      <td>758</td>\n",
       "      <td>857</td>\n",
       "      <td>2012</td>\n",
       "      <td>7</td>\n",
       "      <td>31</td>\n",
       "    </tr>\n",
       "  </tbody>\n",
       "</table>\n",
       "</div>"
      ],
      "text/plain": [
       "      dteday   hum  weathersit  holiday  season   atemp  temp  hr  casual  \\\n",
       "0 2011-12-09  0.62           1        0       4  0.3485  0.36  16      24   \n",
       "1 2012-06-17  0.64           1        0       2  0.5152  0.54   4       2   \n",
       "2 2011-06-15  0.53           1        0       2  0.6212  0.62  23      17   \n",
       "3 2012-03-31  0.87           2        0       2  0.3485  0.36   8      19   \n",
       "4 2012-07-31  0.55           1        0       3  0.6970  0.76  18      99   \n",
       "\n",
       "   registered  cnt  year  month  date  \n",
       "0         226  250  2011     12     9  \n",
       "1          16   18  2012      6    17  \n",
       "2          90  107  2011      6    15  \n",
       "3         126  145  2012      3    31  \n",
       "4         758  857  2012      7    31  "
      ]
     },
     "execution_count": 7,
     "metadata": {},
     "output_type": "execute_result"
    }
   ],
   "source": [
    "df.head()"
   ]
  },
  {
   "cell_type": "code",
   "execution_count": 8,
   "id": "a37ba269-132f-4ce6-ab00-6630b9797334",
   "metadata": {
    "scrolled": true
   },
   "outputs": [
    {
     "data": {
      "image/png": "[encoded data removed]",
      "text/plain": [
       "<Figure size 936x576 with 1 Axes>"
      ]
     },
     "metadata": {
      "needs_background": "light"
     },
     "output_type": "display_data"
    }
   ],
   "source": [
    "# Pengecekan Missing Value dengan Heatmap\n",
    "plt.figure(figsize=(13,8))\n",
    "sns.heatmap(df.isna(), cmap='plasma', cbar=False, yticklabels=False)\n",
    "plt.show()"
   ]
  },
  {
   "cell_type": "code",
   "execution_count": 9,
   "id": "3bf78183",
   "metadata": {},
   "outputs": [],
   "source": [
    "# tidak ada missing value"
   ]
  },
  {
   "cell_type": "code",
   "execution_count": 10,
   "id": "a0a0b2f3-3c93-477e-ab64-04d54ea8abd7",
   "metadata": {},
   "outputs": [],
   "source": [
    "## Mengatasi Missing Value\n",
    "df.dropna(inplace=True)"
   ]
  },
  {
   "cell_type": "code",
   "execution_count": 11,
   "id": "30f46952-df70-4546-825d-23c0654fb618",
   "metadata": {},
   "outputs": [
    {
     "data": {
      "text/plain": [
       "dteday        0\n",
       "hum           0\n",
       "weathersit    0\n",
       "holiday       0\n",
       "season        0\n",
       "atemp         0\n",
       "temp          0\n",
       "hr            0\n",
       "casual        0\n",
       "registered    0\n",
       "cnt           0\n",
       "year          0\n",
       "month         0\n",
       "date          0\n",
       "dtype: int64"
      ]
     },
     "execution_count": 11,
     "metadata": {},
     "output_type": "execute_result"
    }
   ],
   "source": [
    "df.isna().sum()"
   ]
  },
  {
   "cell_type": "code",
   "execution_count": 12,
   "id": "67171970-bc21-461e-adbf-722b8c513f8b",
   "metadata": {},
   "outputs": [
    {
     "data": {
      "image/png": "[encoded data removed]",
      "text/plain": [
       "<Figure size 936x576 with 2 Axes>"
      ]
     },
     "metadata": {
      "needs_background": "light"
     },
     "output_type": "display_data"
    }
   ],
   "source": [
    "# Pengecekan Korelasi\n",
    "plt.figure(figsize=(13,8))\n",
    "sns.heatmap(df.corr(), annot=True)\n",
    "plt.show()"
   ]
  },
  {
   "cell_type": "code",
   "execution_count": 13,
   "id": "33340a00-cb48-42c1-b47f-083bca0d1b57",
   "metadata": {},
   "outputs": [
    {
     "data": {
      "image/png": "[encoded data removed]",
      "text/plain": [
       "<Figure size 936x576 with 2 Axes>"
      ]
     },
     "metadata": {
      "needs_background": "light"
     },
     "output_type": "display_data"
    }
   ],
   "source": [
    "# Pengecekan Korelasi dengan Spearman\n",
    "plt.figure(figsize=(13,8))\n",
    "sns.heatmap(df.corr('spearman'), annot=True)\n",
    "plt.show()"
   ]
  },
  {
   "cell_type": "code",
   "execution_count": 14,
   "id": "c6b75fc9-4820-4f55-8667-eefc7e160e8d",
   "metadata": {},
   "outputs": [],
   "source": [
    "# Membuat Sub-Data\n",
    "df_1 = df.drop(columns=['holiday', 'dteday'])"
   ]
  },
  {
   "cell_type": "markdown",
   "id": "e82b7ac4-f30d-42f6-b336-e421f60573be",
   "metadata": {},
   "source": [
    "Kolom holiday di drop karena memiliki korelasi yang rendah, dan kolom dteday di drop karena sudah di buat kolom baru"
   ]
  },
  {
   "cell_type": "markdown",
   "id": "de91881f-8fc9-4b8e-b962-e89a815b8163",
   "metadata": {},
   "source": [
    "### Splitting Data"
   ]
  },
  {
   "cell_type": "code",
   "execution_count": 15,
   "id": "a2083016-dbe0-4941-897f-a90f970f26c9",
   "metadata": {},
   "outputs": [],
   "source": [
    "X = df_1.drop(columns=['cnt'])\n",
    "y = df_1['cnt']"
   ]
  },
  {
   "cell_type": "code",
   "execution_count": 16,
   "id": "dc11295f-3bdc-4369-b297-e64edf15da00",
   "metadata": {},
   "outputs": [],
   "source": [
    "X_train, X_test, y_train, y_test = train_test_split(X, y, test_size =.20, random_state=42)"
   ]
  },
  {
   "cell_type": "code",
   "execution_count": 17,
   "id": "0da32ddb-36cf-417a-a4f6-97ef3fb61097",
   "metadata": {},
   "outputs": [
    {
     "data": {
      "text/html": [
       "<div>\n",
       "<style scoped>\n",
       "    .dataframe tbody tr th:only-of-type {\n",
       "        vertical-align: middle;\n",
       "    }\n",
       "\n",
       "    .dataframe tbody tr th {\n",
       "        vertical-align: top;\n",
       "    }\n",
       "\n",
       "    .dataframe thead th {\n",
       "        text-align: right;\n",
       "    }\n",
       "</style>\n",
       "<table border=\"1\" class=\"dataframe\">\n",
       "  <thead>\n",
       "    <tr style=\"text-align: right;\">\n",
       "      <th></th>\n",
       "      <th>hum</th>\n",
       "      <th>weathersit</th>\n",
       "      <th>season</th>\n",
       "      <th>atemp</th>\n",
       "      <th>temp</th>\n",
       "      <th>hr</th>\n",
       "      <th>casual</th>\n",
       "      <th>registered</th>\n",
       "      <th>year</th>\n",
       "      <th>month</th>\n",
       "      <th>date</th>\n",
       "    </tr>\n",
       "  </thead>\n",
       "  <tbody>\n",
       "    <tr>\n",
       "      <th>10288</th>\n",
       "      <td>0.83</td>\n",
       "      <td>3</td>\n",
       "      <td>3</td>\n",
       "      <td>0.5758</td>\n",
       "      <td>0.62</td>\n",
       "      <td>20</td>\n",
       "      <td>65</td>\n",
       "      <td>176</td>\n",
       "      <td>2012</td>\n",
       "      <td>8</td>\n",
       "      <td>25</td>\n",
       "    </tr>\n",
       "    <tr>\n",
       "      <th>5587</th>\n",
       "      <td>0.62</td>\n",
       "      <td>1</td>\n",
       "      <td>1</td>\n",
       "      <td>0.4394</td>\n",
       "      <td>0.44</td>\n",
       "      <td>1</td>\n",
       "      <td>3</td>\n",
       "      <td>15</td>\n",
       "      <td>2012</td>\n",
       "      <td>2</td>\n",
       "      <td>24</td>\n",
       "    </tr>\n",
       "    <tr>\n",
       "      <th>4147</th>\n",
       "      <td>0.51</td>\n",
       "      <td>1</td>\n",
       "      <td>1</td>\n",
       "      <td>0.2273</td>\n",
       "      <td>0.22</td>\n",
       "      <td>3</td>\n",
       "      <td>0</td>\n",
       "      <td>1</td>\n",
       "      <td>2012</td>\n",
       "      <td>3</td>\n",
       "      <td>5</td>\n",
       "    </tr>\n",
       "    <tr>\n",
       "      <th>5257</th>\n",
       "      <td>0.35</td>\n",
       "      <td>1</td>\n",
       "      <td>3</td>\n",
       "      <td>0.7879</td>\n",
       "      <td>0.88</td>\n",
       "      <td>18</td>\n",
       "      <td>91</td>\n",
       "      <td>248</td>\n",
       "      <td>2012</td>\n",
       "      <td>6</td>\n",
       "      <td>30</td>\n",
       "    </tr>\n",
       "    <tr>\n",
       "      <th>2628</th>\n",
       "      <td>0.79</td>\n",
       "      <td>1</td>\n",
       "      <td>3</td>\n",
       "      <td>0.6970</td>\n",
       "      <td>0.72</td>\n",
       "      <td>2</td>\n",
       "      <td>1</td>\n",
       "      <td>7</td>\n",
       "      <td>2012</td>\n",
       "      <td>9</td>\n",
       "      <td>6</td>\n",
       "    </tr>\n",
       "  </tbody>\n",
       "</table>\n",
       "</div>"
      ],
      "text/plain": [
       "        hum  weathersit  season   atemp  temp  hr  casual  registered  year  \\\n",
       "10288  0.83           3       3  0.5758  0.62  20      65         176  2012   \n",
       "5587   0.62           1       1  0.4394  0.44   1       3          15  2012   \n",
       "4147   0.51           1       1  0.2273  0.22   3       0           1  2012   \n",
       "5257   0.35           1       3  0.7879  0.88  18      91         248  2012   \n",
       "2628   0.79           1       3  0.6970  0.72   2       1           7  2012   \n",
       "\n",
       "       month  date  \n",
       "10288      8    25  \n",
       "5587       2    24  \n",
       "4147       3     5  \n",
       "5257       6    30  \n",
       "2628       9     6  "
      ]
     },
     "execution_count": 17,
     "metadata": {},
     "output_type": "execute_result"
    }
   ],
   "source": [
    "X_train.head()"
   ]
  },
  {
   "cell_type": "markdown",
   "id": "5bc2eeef-b310-43ab-8be9-66753a0aff10",
   "metadata": {},
   "source": [
    "### Modelling"
   ]
  },
  {
   "cell_type": "code",
   "execution_count": 18,
   "id": "dce0e494-5f05-48b0-afa6-29f109a25a65",
   "metadata": {},
   "outputs": [],
   "source": [
    "pd.options.display.float_format = '{:.2f}'.format"
   ]
  },
  {
   "cell_type": "code",
   "execution_count": 19,
   "id": "c35dc945-aa28-4c94-8c95-4a870ae5249d",
   "metadata": {},
   "outputs": [],
   "source": [
    "def Eva_Matrix_DF(Model,X_train, X_test, y_train, y_test, Nama):\n",
    "    y_pred_tr = Model.predict(X_train)\n",
    "    R2_tr = r2_score(y_train, y_pred_tr)\n",
    "    MAE_tr = mean_absolute_error(y_train, y_pred_tr)\n",
    "    MSE_tr = mean_squared_error(y_train, y_pred_tr)\n",
    "    RMSE_tr = np.sqrt(MSE_tr)\n",
    "    y_pred_ts = Model.predict(X_test)\n",
    "    R2_ts = r2_score(y_test, y_pred_ts)\n",
    "    MAE_ts = mean_absolute_error(y_test, y_pred_ts)\n",
    "    MSE_ts = mean_squared_error(y_test, y_pred_ts)\n",
    "    RMSE_ts = np.sqrt(MSE_ts)\n",
    "    data = {\n",
    "        'Training' + Nama : [R2_tr, MAE_tr, MSE_tr, RMSE_tr],\n",
    "        'Testing' + Nama : [R2_ts, MAE_ts, MSE_ts, RMSE_ts]}\n",
    "    df = pd.DataFrame(data=data, index = ['R2', 'MAE', 'MSE', 'RMSE'])\n",
    "    return df"
   ]
  },
  {
   "cell_type": "markdown",
   "id": "8af3708c-f1bb-4381-848f-aa288c020716",
   "metadata": {
    "tags": []
   },
   "source": [
    "### Membuat Pipeline Model"
   ]
  },
  {
   "cell_type": "code",
   "execution_count": 20,
   "id": "d057d09e-3983-48cb-b01d-02864fcb3b9c",
   "metadata": {},
   "outputs": [],
   "source": [
    "# Pipeline yang Modelnya menggunakan Scaller\n",
    "num_columns = ['hum', 'weathersit', 'season', 'atemp', 'temp', 'hr', 'casual', 'registered']\n",
    "cat_columns = []\n",
    "\n",
    "numeric_pipeline = Pipeline([\n",
    "    ('scaler', RobustScaler()),\n",
    "    ('poly', PolynomialFeatures(degree=3, include_bias=False)),\n",
    "    ('power', PowerTransformer(method='yeo-johnson'))\n",
    "])\n",
    "\n",
    "categoric_pipeline = Pipeline([\n",
    "    ('encoder', OneHotEncoder(drop='first'))\n",
    "])\n",
    "\n",
    "preprocessor = ColumnTransformer([\n",
    "    ('numeric', numeric_pipeline, num_columns),\n",
    "    ('categoric', categoric_pipeline, cat_columns)\n",
    "], remainder='passthrough')\n",
    "\n",
    "pipe_SVR = Pipeline([\n",
    "    ('prep', preprocessor),\n",
    "    ('algo', SVR())\n",
    "])\n",
    "\n",
    "pipe_KNN = Pipeline([\n",
    "    ('prep', preprocessor),\n",
    "    ('algo', KNeighborsRegressor())\n",
    "])"
   ]
  },
  {
   "cell_type": "code",
   "execution_count": 21,
   "id": "d0f89aeb-0fb8-4199-8f87-761606963bf5",
   "metadata": {},
   "outputs": [],
   "source": [
    "# Pipeline yang Modelnya tidak menggunakan Scaller\n",
    "num_columns = ['hum', 'weathersit', 'season', 'atemp', 'temp', 'hr', 'casual', 'registered']\n",
    "cat_columns = []\n",
    "\n",
    "numeric_pipeline = Pipeline([\n",
    "    # ('scaler', RobustScaler()),\n",
    "    ('poly', PolynomialFeatures(degree=3, include_bias=False)),\n",
    "    ('power', PowerTransformer(method='yeo-johnson'))\n",
    "])\n",
    "\n",
    "categoric_pipeline = Pipeline([\n",
    "    ('encoder', OneHotEncoder(drop='first'))\n",
    "])\n",
    "\n",
    "preprocessor = ColumnTransformer([\n",
    "    ('numeric', numeric_pipeline, num_columns),\n",
    "    ('categoric', categoric_pipeline, cat_columns)\n",
    "], remainder='passthrough')\n",
    "\n",
    "pipe_DTree = Pipeline([\n",
    "    ('prep', preprocessor),\n",
    "    ('algo', DecisionTreeRegressor())\n",
    "])\n",
    "\n",
    "pipe_RF = Pipeline([\n",
    "    ('prep', preprocessor),\n",
    "    ('algo', RandomForestRegressor())\n",
    "])"
   ]
  },
  {
   "cell_type": "code",
   "execution_count": 22,
   "id": "5d2a78d2-7265-4ea2-a0bb-eb8cd165563b",
   "metadata": {},
   "outputs": [],
   "source": [
    "# Mentraining Data\n",
    "dfbase = [pipe_SVR, pipe_KNN, pipe_DTree, pipe_RF]\n",
    "\n",
    "for i in dfbase:\n",
    "    i.fit(X_train, y_train)"
   ]
  },
  {
   "cell_type": "code",
   "execution_count": 23,
   "id": "419bc2b6-1387-4c51-9307-296361f1f199",
   "metadata": {},
   "outputs": [],
   "source": [
    "# Evaluasion Matrix\n",
    "df_SVR_base = Eva_Matrix_DF(pipe_SVR, X_train, X_test, y_train, y_test, 'Base SVR')\n",
    "df_KNN_base = Eva_Matrix_DF(pipe_KNN, X_train, X_test, y_train, y_test, 'Base KNN')\n",
    "df_DTree_base = Eva_Matrix_DF(pipe_DTree, X_train, X_test, y_train, y_test, 'Base DTree')\n",
    "df_RF_base = Eva_Matrix_DF(pipe_RF, X_train, X_test, y_train, y_test, 'Base RF')"
   ]
  },
  {
   "cell_type": "code",
   "execution_count": 24,
   "id": "d3d339d5-f30a-46e3-9b11-e4d33ec6ab99",
   "metadata": {},
   "outputs": [
    {
     "data": {
      "text/html": [
       "<div>\n",
       "<style scoped>\n",
       "    .dataframe tbody tr th:only-of-type {\n",
       "        vertical-align: middle;\n",
       "    }\n",
       "\n",
       "    .dataframe tbody tr th {\n",
       "        vertical-align: top;\n",
       "    }\n",
       "\n",
       "    .dataframe thead th {\n",
       "        text-align: right;\n",
       "    }\n",
       "</style>\n",
       "<table border=\"1\" class=\"dataframe\">\n",
       "  <thead>\n",
       "    <tr style=\"text-align: right;\">\n",
       "      <th></th>\n",
       "      <th>TrainingBase SVR</th>\n",
       "      <th>TestingBase SVR</th>\n",
       "      <th>TrainingBase KNN</th>\n",
       "      <th>TestingBase KNN</th>\n",
       "      <th>TrainingBase DTree</th>\n",
       "      <th>TestingBase DTree</th>\n",
       "      <th>TrainingBase RF</th>\n",
       "      <th>TestingBase RF</th>\n",
       "    </tr>\n",
       "  </thead>\n",
       "  <tbody>\n",
       "    <tr>\n",
       "      <th>R2</th>\n",
       "      <td>-0.06</td>\n",
       "      <td>-0.05</td>\n",
       "      <td>0.97</td>\n",
       "      <td>0.95</td>\n",
       "      <td>1.00</td>\n",
       "      <td>1.00</td>\n",
       "      <td>1.00</td>\n",
       "      <td>1.00</td>\n",
       "    </tr>\n",
       "    <tr>\n",
       "      <th>MAE</th>\n",
       "      <td>138.56</td>\n",
       "      <td>133.93</td>\n",
       "      <td>19.79</td>\n",
       "      <td>25.75</td>\n",
       "      <td>0.00</td>\n",
       "      <td>2.66</td>\n",
       "      <td>0.53</td>\n",
       "      <td>1.38</td>\n",
       "    </tr>\n",
       "    <tr>\n",
       "      <th>MSE</th>\n",
       "      <td>35326.36</td>\n",
       "      <td>32571.89</td>\n",
       "      <td>937.73</td>\n",
       "      <td>1558.52</td>\n",
       "      <td>0.00</td>\n",
       "      <td>37.58</td>\n",
       "      <td>1.77</td>\n",
       "      <td>12.70</td>\n",
       "    </tr>\n",
       "    <tr>\n",
       "      <th>RMSE</th>\n",
       "      <td>187.95</td>\n",
       "      <td>180.48</td>\n",
       "      <td>30.62</td>\n",
       "      <td>39.48</td>\n",
       "      <td>0.00</td>\n",
       "      <td>6.13</td>\n",
       "      <td>1.33</td>\n",
       "      <td>3.56</td>\n",
       "    </tr>\n",
       "  </tbody>\n",
       "</table>\n",
       "</div>"
      ],
      "text/plain": [
       "      TrainingBase SVR  TestingBase SVR  TrainingBase KNN  TestingBase KNN  \\\n",
       "R2               -0.06            -0.05              0.97             0.95   \n",
       "MAE             138.56           133.93             19.79            25.75   \n",
       "MSE           35326.36         32571.89            937.73          1558.52   \n",
       "RMSE            187.95           180.48             30.62            39.48   \n",
       "\n",
       "      TrainingBase DTree  TestingBase DTree  TrainingBase RF  TestingBase RF  \n",
       "R2                  1.00               1.00             1.00            1.00  \n",
       "MAE                 0.00               2.66             0.53            1.38  \n",
       "MSE                 0.00              37.58             1.77           12.70  \n",
       "RMSE                0.00               6.13             1.33            3.56  "
      ]
     },
     "execution_count": 24,
     "metadata": {},
     "output_type": "execute_result"
    }
   ],
   "source": [
    "# Menampilkan Hasil Evaluasi Matrix\n",
    "df_all = pd.concat([df_SVR_base, df_KNN_base, df_DTree_base, df_RF_base], axis=1)\n",
    "df_all"
   ]
  },
  {
   "cell_type": "markdown",
   "id": "ac50296f-273d-4d10-8a45-672443c267b7",
   "metadata": {},
   "source": [
    "### Dapat dilihat dari Nilai yang sudah ada bahwa:\n",
    "- Model dengan Nilai RMSE terbaik adalah Model Random Forest\n",
    "- Model tersebut memiliki nilai RMSE yang lebih rendah dibandingkan dengan Model lain, sehingga perlu dilakukan Hyper Parameter Tuning\n",
    "- Model dengan Nilai terburuk adalah Model SVR dengan hasil nilai RMSE yang tinggi\n",
    "- Model yang akan dilakukan Tunning adalah Random Forest"
   ]
  },
  {
   "cell_type": "markdown",
   "id": "4163a476-9e80-4daa-be0a-e154cee869d4",
   "metadata": {},
   "source": [
    "# Improvement"
   ]
  },
  {
   "cell_type": "code",
   "execution_count": 25,
   "id": "a568a85d",
   "metadata": {},
   "outputs": [
    {
     "data": {
      "text/plain": [
       "{'memory': None,\n",
       " 'steps': [('prep', ColumnTransformer(remainder='passthrough',\n",
       "                     transformers=[('numeric',\n",
       "                                    Pipeline(steps=[('poly',\n",
       "                                                     PolynomialFeatures(degree=3,\n",
       "                                                                        include_bias=False)),\n",
       "                                                    ('power',\n",
       "                                                     PowerTransformer())]),\n",
       "                                    ['hum', 'weathersit', 'season', 'atemp',\n",
       "                                     'temp', 'hr', 'casual', 'registered']),\n",
       "                                   ('categoric',\n",
       "                                    Pipeline(steps=[('encoder',\n",
       "                                                     OneHotEncoder(drop='first'))]),\n",
       "                                    [])])),\n",
       "  ('algo', RandomForestRegressor())],\n",
       " 'verbose': False,\n",
       " 'prep': ColumnTransformer(remainder='passthrough',\n",
       "                   transformers=[('numeric',\n",
       "                                  Pipeline(steps=[('poly',\n",
       "                                                   PolynomialFeatures(degree=3,\n",
       "                                                                      include_bias=False)),\n",
       "                                                  ('power',\n",
       "                                                   PowerTransformer())]),\n",
       "                                  ['hum', 'weathersit', 'season', 'atemp',\n",
       "                                   'temp', 'hr', 'casual', 'registered']),\n",
       "                                 ('categoric',\n",
       "                                  Pipeline(steps=[('encoder',\n",
       "                                                   OneHotEncoder(drop='first'))]),\n",
       "                                  [])]),\n",
       " 'algo': RandomForestRegressor(),\n",
       " 'prep__n_jobs': None,\n",
       " 'prep__remainder': 'passthrough',\n",
       " 'prep__sparse_threshold': 0.3,\n",
       " 'prep__transformer_weights': None,\n",
       " 'prep__transformers': [('numeric',\n",
       "   Pipeline(steps=[('poly', PolynomialFeatures(degree=3, include_bias=False)),\n",
       "                   ('power', PowerTransformer())]),\n",
       "   ['hum',\n",
       "    'weathersit',\n",
       "    'season',\n",
       "    'atemp',\n",
       "    'temp',\n",
       "    'hr',\n",
       "    'casual',\n",
       "    'registered']),\n",
       "  ('categoric',\n",
       "   Pipeline(steps=[('encoder', OneHotEncoder(drop='first'))]),\n",
       "   [])],\n",
       " 'prep__verbose': False,\n",
       " 'prep__numeric': Pipeline(steps=[('poly', PolynomialFeatures(degree=3, include_bias=False)),\n",
       "                 ('power', PowerTransformer())]),\n",
       " 'prep__categoric': Pipeline(steps=[('encoder', OneHotEncoder(drop='first'))]),\n",
       " 'prep__numeric__memory': None,\n",
       " 'prep__numeric__steps': [('poly',\n",
       "   PolynomialFeatures(degree=3, include_bias=False)),\n",
       "  ('power', PowerTransformer())],\n",
       " 'prep__numeric__verbose': False,\n",
       " 'prep__numeric__poly': PolynomialFeatures(degree=3, include_bias=False),\n",
       " 'prep__numeric__power': PowerTransformer(),\n",
       " 'prep__numeric__poly__degree': 3,\n",
       " 'prep__numeric__poly__include_bias': False,\n",
       " 'prep__numeric__poly__interaction_only': False,\n",
       " 'prep__numeric__poly__order': 'C',\n",
       " 'prep__numeric__power__copy': True,\n",
       " 'prep__numeric__power__method': 'yeo-johnson',\n",
       " 'prep__numeric__power__standardize': True,\n",
       " 'prep__categoric__memory': None,\n",
       " 'prep__categoric__steps': [('encoder', OneHotEncoder(drop='first'))],\n",
       " 'prep__categoric__verbose': False,\n",
       " 'prep__categoric__encoder': OneHotEncoder(drop='first'),\n",
       " 'prep__categoric__encoder__categories': 'auto',\n",
       " 'prep__categoric__encoder__drop': 'first',\n",
       " 'prep__categoric__encoder__dtype': numpy.float64,\n",
       " 'prep__categoric__encoder__handle_unknown': 'error',\n",
       " 'prep__categoric__encoder__sparse': True,\n",
       " 'algo__bootstrap': True,\n",
       " 'algo__ccp_alpha': 0.0,\n",
       " 'algo__criterion': 'mse',\n",
       " 'algo__max_depth': None,\n",
       " 'algo__max_features': 'auto',\n",
       " 'algo__max_leaf_nodes': None,\n",
       " 'algo__max_samples': None,\n",
       " 'algo__min_impurity_decrease': 0.0,\n",
       " 'algo__min_impurity_split': None,\n",
       " 'algo__min_samples_leaf': 1,\n",
       " 'algo__min_samples_split': 2,\n",
       " 'algo__min_weight_fraction_leaf': 0.0,\n",
       " 'algo__n_estimators': 100,\n",
       " 'algo__n_jobs': None,\n",
       " 'algo__oob_score': False,\n",
       " 'algo__random_state': None,\n",
       " 'algo__verbose': 0,\n",
       " 'algo__warm_start': False}"
      ]
     },
     "execution_count": 25,
     "metadata": {},
     "output_type": "execute_result"
    }
   ],
   "source": [
    "# Menampilkan parameter yang dapat digunakan\n",
    "pipe_RF.get_params()"
   ]
  },
  {
   "cell_type": "code",
   "execution_count": 26,
   "id": "ad28422a-ef34-48a2-879f-3a70bd380cad",
   "metadata": {},
   "outputs": [],
   "source": [
    "# Kedalaman pohon\n",
    "max_depth = list(np.arange(1, 200))\n",
    "\n",
    "# Jumlah pohon\n",
    "n_estimators = list(np.arange(100, 301))\n",
    "\n",
    "# Hyperparam space Random Forest\n",
    "param_RF = {\n",
    "    'algo__max_depth': max_depth, \n",
    "    'algo__n_estimators': n_estimators,\n",
    "}"
   ]
  },
  {
   "cell_type": "code",
   "execution_count": 27,
   "id": "2bb67f19-9050-4a5d-8c79-a92e3dcd60a8",
   "metadata": {},
   "outputs": [],
   "source": [
    "RS_RF = RandomizedSearchCV(pipe_RF, param_RF, cv = 4, n_jobs=-1, verbose=1, scoring ='neg_root_mean_squared_error', n_iter=100)"
   ]
  },
  {
   "cell_type": "markdown",
   "id": "596e5dfa-d04e-4c55-9ee7-696ef6d9b611",
   "metadata": {},
   "source": [
    "Alasan saya menggunakan Randomized Search karena jika memakai Grid Search terlalu banyak jumlah kombinasi yang dapat mengakibatkan device crash, sehingga agar lebih optimal menggunakan Randomized Search"
   ]
  },
  {
   "cell_type": "code",
   "execution_count": 28,
   "id": "d5cf2699-e9d0-4c9f-9887-b3b2a2dbaa28",
   "metadata": {},
   "outputs": [
    {
     "name": "stdout",
     "output_type": "stream",
     "text": [
      "Fitting 4 folds for each of 100 candidates, totalling 400 fits\n"
     ]
    },
    {
     "data": {
      "text/plain": [
       "RandomizedSearchCV(cv=4,\n",
       "                   estimator=Pipeline(steps=[('prep',\n",
       "                                              ColumnTransformer(remainder='passthrough',\n",
       "                                                                transformers=[('numeric',\n",
       "                                                                               Pipeline(steps=[('poly',\n",
       "                                                                                                PolynomialFeatures(degree=3,\n",
       "                                                                                                                   include_bias=False)),\n",
       "                                                                                               ('power',\n",
       "                                                                                                PowerTransformer())]),\n",
       "                                                                               ['hum',\n",
       "                                                                                'weathersit',\n",
       "                                                                                'season',\n",
       "                                                                                'atemp',\n",
       "                                                                                'temp',\n",
       "                                                                                'hr',\n",
       "                                                                                'casual',\n",
       "                                                                                'registered']),\n",
       "                                                                              ('categoric',\n",
       "                                                                               Pipeline(steps=[('encoder',\n",
       "                                                                                                OneHotEn...\n",
       "                                              RandomForestRegressor())]),\n",
       "                   n_iter=100, n_jobs=-1,\n",
       "                   param_distributions={'algo__max_depth': [1, 2, 3, 4, 5, 6, 7,\n",
       "                                                            8, 9, 10, 11, 12,\n",
       "                                                            13, 14, 15, 16, 17,\n",
       "                                                            18, 19, 20, 21, 22,\n",
       "                                                            23, 24, 25, 26, 27,\n",
       "                                                            28, 29, 30, ...],\n",
       "                                        'algo__n_estimators': [100, 101, 102,\n",
       "                                                               103, 104, 105,\n",
       "                                                               106, 107, 108,\n",
       "                                                               109, 110, 111,\n",
       "                                                               112, 113, 114,\n",
       "                                                               115, 116, 117,\n",
       "                                                               118, 119, 120,\n",
       "                                                               121, 122, 123,\n",
       "                                                               124, 125, 126,\n",
       "                                                               127, 128, 129, ...]},\n",
       "                   scoring='neg_root_mean_squared_error', verbose=1)"
      ]
     },
     "execution_count": 28,
     "metadata": {},
     "output_type": "execute_result"
    }
   ],
   "source": [
    "RS_RF.fit(X_train, y_train)"
   ]
  },
  {
   "cell_type": "code",
   "execution_count": 29,
   "id": "2326abf1-2af5-4f00-aa77-4d5606ba5275",
   "metadata": {},
   "outputs": [],
   "source": [
    "RF_Tuned = RS_RF.best_estimator_"
   ]
  },
  {
   "cell_type": "code",
   "execution_count": 30,
   "id": "4b6db17a-ac86-4cbd-b59e-6f869b1a7808",
   "metadata": {
    "scrolled": false
   },
   "outputs": [
    {
     "data": {
      "text/html": [
       "<div>\n",
       "<style scoped>\n",
       "    .dataframe tbody tr th:only-of-type {\n",
       "        vertical-align: middle;\n",
       "    }\n",
       "\n",
       "    .dataframe tbody tr th {\n",
       "        vertical-align: top;\n",
       "    }\n",
       "\n",
       "    .dataframe thead th {\n",
       "        text-align: right;\n",
       "    }\n",
       "</style>\n",
       "<table border=\"1\" class=\"dataframe\">\n",
       "  <thead>\n",
       "    <tr style=\"text-align: right;\">\n",
       "      <th></th>\n",
       "      <th>TrainingRF Boost Tuned</th>\n",
       "      <th>TestingRF Boost Tuned</th>\n",
       "    </tr>\n",
       "  </thead>\n",
       "  <tbody>\n",
       "    <tr>\n",
       "      <th>R2</th>\n",
       "      <td>1.00</td>\n",
       "      <td>1.00</td>\n",
       "    </tr>\n",
       "    <tr>\n",
       "      <th>MAE</th>\n",
       "      <td>0.50</td>\n",
       "      <td>1.33</td>\n",
       "    </tr>\n",
       "    <tr>\n",
       "      <th>MSE</th>\n",
       "      <td>1.63</td>\n",
       "      <td>12.55</td>\n",
       "    </tr>\n",
       "    <tr>\n",
       "      <th>RMSE</th>\n",
       "      <td>1.28</td>\n",
       "      <td>3.54</td>\n",
       "    </tr>\n",
       "  </tbody>\n",
       "</table>\n",
       "</div>"
      ],
      "text/plain": [
       "      TrainingRF Boost Tuned  TestingRF Boost Tuned\n",
       "R2                      1.00                   1.00\n",
       "MAE                     0.50                   1.33\n",
       "MSE                     1.63                  12.55\n",
       "RMSE                    1.28                   3.54"
      ]
     },
     "execution_count": 30,
     "metadata": {},
     "output_type": "execute_result"
    }
   ],
   "source": [
    "df_RF = Eva_Matrix_DF(RF_Tuned, X_train, X_test, y_train, y_test, 'RF Boost Tuned')\n",
    "df_RF"
   ]
  },
  {
   "cell_type": "markdown",
   "id": "514a1167-1964-4afc-b7e0-dfa126cfdd8b",
   "metadata": {},
   "source": [
    "### Hasil Akhir"
   ]
  },
  {
   "cell_type": "code",
   "execution_count": 31,
   "id": "6e456b6b-9138-49f8-98b6-cfd28585f2b8",
   "metadata": {
    "scrolled": true
   },
   "outputs": [
    {
     "data": {
      "text/html": [
       "<div>\n",
       "<style scoped>\n",
       "    .dataframe tbody tr th:only-of-type {\n",
       "        vertical-align: middle;\n",
       "    }\n",
       "\n",
       "    .dataframe tbody tr th {\n",
       "        vertical-align: top;\n",
       "    }\n",
       "\n",
       "    .dataframe thead th {\n",
       "        text-align: right;\n",
       "    }\n",
       "</style>\n",
       "<table border=\"1\" class=\"dataframe\">\n",
       "  <thead>\n",
       "    <tr style=\"text-align: right;\">\n",
       "      <th></th>\n",
       "      <th>TrainingBase RF</th>\n",
       "      <th>TestingBase RF</th>\n",
       "      <th>TrainingRF Boost Tuned</th>\n",
       "      <th>TestingRF Boost Tuned</th>\n",
       "    </tr>\n",
       "  </thead>\n",
       "  <tbody>\n",
       "    <tr>\n",
       "      <th>R2</th>\n",
       "      <td>1.00</td>\n",
       "      <td>1.00</td>\n",
       "      <td>1.00</td>\n",
       "      <td>1.00</td>\n",
       "    </tr>\n",
       "    <tr>\n",
       "      <th>MAE</th>\n",
       "      <td>0.53</td>\n",
       "      <td>1.38</td>\n",
       "      <td>0.50</td>\n",
       "      <td>1.33</td>\n",
       "    </tr>\n",
       "    <tr>\n",
       "      <th>MSE</th>\n",
       "      <td>1.77</td>\n",
       "      <td>12.70</td>\n",
       "      <td>1.63</td>\n",
       "      <td>12.55</td>\n",
       "    </tr>\n",
       "    <tr>\n",
       "      <th>RMSE</th>\n",
       "      <td>1.33</td>\n",
       "      <td>3.56</td>\n",
       "      <td>1.28</td>\n",
       "      <td>3.54</td>\n",
       "    </tr>\n",
       "  </tbody>\n",
       "</table>\n",
       "</div>"
      ],
      "text/plain": [
       "      TrainingBase RF  TestingBase RF  TrainingRF Boost Tuned  \\\n",
       "R2               1.00            1.00                    1.00   \n",
       "MAE              0.53            1.38                    0.50   \n",
       "MSE              1.77           12.70                    1.63   \n",
       "RMSE             1.33            3.56                    1.28   \n",
       "\n",
       "      TestingRF Boost Tuned  \n",
       "R2                     1.00  \n",
       "MAE                    1.33  \n",
       "MSE                   12.55  \n",
       "RMSE                   3.54  "
      ]
     },
     "execution_count": 31,
     "metadata": {},
     "output_type": "execute_result"
    }
   ],
   "source": [
    "# Menampilkan hasil Evaluation Matrix dengan menggabungkan model terbaik sebelum data sesudah di Tunning\n",
    "df_tuned = pd.concat([df_RF_base, df_RF], axis=1)\n",
    "df_tuned"
   ]
  },
  {
   "cell_type": "markdown",
   "id": "3151c00a-99a7-4800-ab99-a07144fe7002",
   "metadata": {},
   "source": [
    "Dari hasil yang sudah dapat dilihat ini nilai R2= 1, dari sini dapat dikatakan fit modelnya bagus. "
   ]
  },
  {
   "cell_type": "markdown",
   "id": "cc96f201-f7cb-41f7-a66a-7724776ba8dd",
   "metadata": {},
   "source": [
    "### Analisis Error untuk model terbaik"
   ]
  },
  {
   "cell_type": "code",
   "execution_count": 32,
   "id": "436ca5f5-57f9-47c9-bc48-cdc874480fba",
   "metadata": {},
   "outputs": [],
   "source": [
    "y_pred=RS_RF.predict(X_test)"
   ]
  },
  {
   "cell_type": "code",
   "execution_count": 33,
   "id": "5448b4e9-7b43-46a4-838e-d5389fe2d4cf",
   "metadata": {},
   "outputs": [
    {
     "data": {
      "text/html": [
       "<div>\n",
       "<style scoped>\n",
       "    .dataframe tbody tr th:only-of-type {\n",
       "        vertical-align: middle;\n",
       "    }\n",
       "\n",
       "    .dataframe tbody tr th {\n",
       "        vertical-align: top;\n",
       "    }\n",
       "\n",
       "    .dataframe thead th {\n",
       "        text-align: right;\n",
       "    }\n",
       "</style>\n",
       "<table border=\"1\" class=\"dataframe\">\n",
       "  <thead>\n",
       "    <tr style=\"text-align: right;\">\n",
       "      <th></th>\n",
       "      <th>cnt</th>\n",
       "    </tr>\n",
       "  </thead>\n",
       "  <tbody>\n",
       "    <tr>\n",
       "      <th>8522</th>\n",
       "      <td>0.26</td>\n",
       "    </tr>\n",
       "    <tr>\n",
       "      <th>4046</th>\n",
       "      <td>0.00</td>\n",
       "    </tr>\n",
       "    <tr>\n",
       "      <th>8297</th>\n",
       "      <td>0.10</td>\n",
       "    </tr>\n",
       "    <tr>\n",
       "      <th>7118</th>\n",
       "      <td>0.20</td>\n",
       "    </tr>\n",
       "    <tr>\n",
       "      <th>10258</th>\n",
       "      <td>0.12</td>\n",
       "    </tr>\n",
       "  </tbody>\n",
       "</table>\n",
       "</div>"
      ],
      "text/plain": [
       "       cnt\n",
       "8522  0.26\n",
       "4046  0.00\n",
       "8297  0.10\n",
       "7118  0.20\n",
       "10258 0.12"
      ]
     },
     "execution_count": 33,
     "metadata": {},
     "output_type": "execute_result"
    }
   ],
   "source": [
    "# Pengecekan Nilai Error\n",
    "error = abs(y_pred-y_test)\n",
    "pd.DataFrame(error).head()"
   ]
  },
  {
   "cell_type": "code",
   "execution_count": 34,
   "id": "e418857c-61c8-4a7e-8858-82d34439daaf",
   "metadata": {},
   "outputs": [],
   "source": [
    "X_test['error'] = error"
   ]
  },
  {
   "cell_type": "code",
   "execution_count": 35,
   "id": "c5023ccb-7b55-4d4f-8401-b203ea60c316",
   "metadata": {
    "scrolled": true
   },
   "outputs": [
    {
     "data": {
      "text/html": [
       "<div>\n",
       "<style scoped>\n",
       "    .dataframe tbody tr th:only-of-type {\n",
       "        vertical-align: middle;\n",
       "    }\n",
       "\n",
       "    .dataframe tbody tr th {\n",
       "        vertical-align: top;\n",
       "    }\n",
       "\n",
       "    .dataframe thead th {\n",
       "        text-align: right;\n",
       "    }\n",
       "</style>\n",
       "<table border=\"1\" class=\"dataframe\">\n",
       "  <thead>\n",
       "    <tr style=\"text-align: right;\">\n",
       "      <th></th>\n",
       "      <th>hum</th>\n",
       "      <th>weathersit</th>\n",
       "      <th>season</th>\n",
       "      <th>atemp</th>\n",
       "      <th>temp</th>\n",
       "      <th>hr</th>\n",
       "      <th>casual</th>\n",
       "      <th>registered</th>\n",
       "      <th>year</th>\n",
       "      <th>month</th>\n",
       "      <th>date</th>\n",
       "      <th>error</th>\n",
       "    </tr>\n",
       "  </thead>\n",
       "  <tbody>\n",
       "    <tr>\n",
       "      <th>11467</th>\n",
       "      <td>0.31</td>\n",
       "      <td>1</td>\n",
       "      <td>2</td>\n",
       "      <td>0.45</td>\n",
       "      <td>0.46</td>\n",
       "      <td>14</td>\n",
       "      <td>240</td>\n",
       "      <td>109</td>\n",
       "      <td>2011</td>\n",
       "      <td>4</td>\n",
       "      <td>3</td>\n",
       "      <td>56.31</td>\n",
       "    </tr>\n",
       "    <tr>\n",
       "      <th>1768</th>\n",
       "      <td>0.55</td>\n",
       "      <td>1</td>\n",
       "      <td>1</td>\n",
       "      <td>0.14</td>\n",
       "      <td>0.16</td>\n",
       "      <td>8</td>\n",
       "      <td>5</td>\n",
       "      <td>349</td>\n",
       "      <td>2012</td>\n",
       "      <td>1</td>\n",
       "      <td>3</td>\n",
       "      <td>55.33</td>\n",
       "    </tr>\n",
       "    <tr>\n",
       "      <th>5514</th>\n",
       "      <td>0.43</td>\n",
       "      <td>1</td>\n",
       "      <td>4</td>\n",
       "      <td>0.53</td>\n",
       "      <td>0.56</td>\n",
       "      <td>12</td>\n",
       "      <td>250</td>\n",
       "      <td>526</td>\n",
       "      <td>2012</td>\n",
       "      <td>9</td>\n",
       "      <td>23</td>\n",
       "      <td>44.50</td>\n",
       "    </tr>\n",
       "    <tr>\n",
       "      <th>6651</th>\n",
       "      <td>0.53</td>\n",
       "      <td>1</td>\n",
       "      <td>1</td>\n",
       "      <td>0.62</td>\n",
       "      <td>0.62</td>\n",
       "      <td>14</td>\n",
       "      <td>352</td>\n",
       "      <td>338</td>\n",
       "      <td>2012</td>\n",
       "      <td>3</td>\n",
       "      <td>17</td>\n",
       "      <td>34.38</td>\n",
       "    </tr>\n",
       "    <tr>\n",
       "      <th>8937</th>\n",
       "      <td>0.38</td>\n",
       "      <td>1</td>\n",
       "      <td>2</td>\n",
       "      <td>0.62</td>\n",
       "      <td>0.64</td>\n",
       "      <td>18</td>\n",
       "      <td>99</td>\n",
       "      <td>570</td>\n",
       "      <td>2012</td>\n",
       "      <td>5</td>\n",
       "      <td>18</td>\n",
       "      <td>33.12</td>\n",
       "    </tr>\n",
       "    <tr>\n",
       "      <th>4436</th>\n",
       "      <td>0.49</td>\n",
       "      <td>2</td>\n",
       "      <td>4</td>\n",
       "      <td>0.53</td>\n",
       "      <td>0.56</td>\n",
       "      <td>18</td>\n",
       "      <td>57</td>\n",
       "      <td>787</td>\n",
       "      <td>2012</td>\n",
       "      <td>10</td>\n",
       "      <td>10</td>\n",
       "      <td>31.79</td>\n",
       "    </tr>\n",
       "    <tr>\n",
       "      <th>9455</th>\n",
       "      <td>0.72</td>\n",
       "      <td>2</td>\n",
       "      <td>4</td>\n",
       "      <td>0.48</td>\n",
       "      <td>0.50</td>\n",
       "      <td>18</td>\n",
       "      <td>26</td>\n",
       "      <td>758</td>\n",
       "      <td>2012</td>\n",
       "      <td>10</td>\n",
       "      <td>9</td>\n",
       "      <td>31.63</td>\n",
       "    </tr>\n",
       "    <tr>\n",
       "      <th>6887</th>\n",
       "      <td>0.73</td>\n",
       "      <td>1</td>\n",
       "      <td>2</td>\n",
       "      <td>0.53</td>\n",
       "      <td>0.56</td>\n",
       "      <td>18</td>\n",
       "      <td>43</td>\n",
       "      <td>770</td>\n",
       "      <td>2012</td>\n",
       "      <td>5</td>\n",
       "      <td>2</td>\n",
       "      <td>28.62</td>\n",
       "    </tr>\n",
       "    <tr>\n",
       "      <th>1783</th>\n",
       "      <td>0.59</td>\n",
       "      <td>1</td>\n",
       "      <td>4</td>\n",
       "      <td>0.50</td>\n",
       "      <td>0.52</td>\n",
       "      <td>18</td>\n",
       "      <td>90</td>\n",
       "      <td>794</td>\n",
       "      <td>2012</td>\n",
       "      <td>10</td>\n",
       "      <td>17</td>\n",
       "      <td>26.75</td>\n",
       "    </tr>\n",
       "    <tr>\n",
       "      <th>6545</th>\n",
       "      <td>0.30</td>\n",
       "      <td>1</td>\n",
       "      <td>4</td>\n",
       "      <td>0.55</td>\n",
       "      <td>0.58</td>\n",
       "      <td>17</td>\n",
       "      <td>89</td>\n",
       "      <td>809</td>\n",
       "      <td>2012</td>\n",
       "      <td>9</td>\n",
       "      <td>24</td>\n",
       "      <td>24.83</td>\n",
       "    </tr>\n",
       "  </tbody>\n",
       "</table>\n",
       "</div>"
      ],
      "text/plain": [
       "       hum  weathersit  season  atemp  temp  hr  casual  registered  year  \\\n",
       "11467 0.31           1       2   0.45  0.46  14     240         109  2011   \n",
       "1768  0.55           1       1   0.14  0.16   8       5         349  2012   \n",
       "5514  0.43           1       4   0.53  0.56  12     250         526  2012   \n",
       "6651  0.53           1       1   0.62  0.62  14     352         338  2012   \n",
       "8937  0.38           1       2   0.62  0.64  18      99         570  2012   \n",
       "4436  0.49           2       4   0.53  0.56  18      57         787  2012   \n",
       "9455  0.72           2       4   0.48  0.50  18      26         758  2012   \n",
       "6887  0.73           1       2   0.53  0.56  18      43         770  2012   \n",
       "1783  0.59           1       4   0.50  0.52  18      90         794  2012   \n",
       "6545  0.30           1       4   0.55  0.58  17      89         809  2012   \n",
       "\n",
       "       month  date  error  \n",
       "11467      4     3  56.31  \n",
       "1768       1     3  55.33  \n",
       "5514       9    23  44.50  \n",
       "6651       3    17  34.38  \n",
       "8937       5    18  33.12  \n",
       "4436      10    10  31.79  \n",
       "9455      10     9  31.63  \n",
       "6887       5     2  28.62  \n",
       "1783      10    17  26.75  \n",
       "6545       9    24  24.83  "
      ]
     },
     "execution_count": 35,
     "metadata": {},
     "output_type": "execute_result"
    }
   ],
   "source": [
    "X_test.sort_values('error', ascending=False).head(10)"
   ]
  },
  {
   "cell_type": "markdown",
   "id": "b2c5a00f-af3b-44f1-92bb-bfd0f330b16c",
   "metadata": {},
   "source": [
    "Dari hasil error yang ditampilkan, hasil error terbesar dengan nilai error 56.31 "
   ]
  },
  {
   "cell_type": "code",
   "execution_count": 40,
   "id": "408f5788-c4ff-4266-93ac-b28131b3e57e",
   "metadata": {},
   "outputs": [
    {
     "data": {
      "image/png": "[encoded data removed]",
      "text/plain": [
       "<Figure size 1008x576 with 1 Axes>"
      ]
     },
     "metadata": {
      "needs_background": "light"
     },
     "output_type": "display_data"
    }
   ],
   "source": [
    "plt.figure(figsize=(14, 8))\n",
    "plot = sns.scatterplot(x=y_pred, y=y_test).set(title='Actual vs. Error', \n",
    "                                               xlabel='Error', \n",
    "                                               ylabel='Actual Qnt');"
   ]
  },
  {
   "cell_type": "markdown",
   "id": "2af37385",
   "metadata": {},
   "source": [
    " Dari grafik scterplot yang dapat dilihat itu hubungan prediksi dengan total sewa dengan aktual total sewa memiliki hubungan positif dan nilai errornya tidak besar (kecil). Bahwa model yang sudah dibuat dapat digunakan sebagai acuan untuk memprediksi total sewa selanjutnya."
   ]
  },
  {
   "cell_type": "markdown",
   "id": "0c372542-09e6-4010-bb1a-3ea63484ef6f",
   "metadata": {},
   "source": [
    "## Conclusion"
   ]
  },
  {
   "cell_type": "markdown",
   "id": "6a5d9513-7018-4891-a679-abf33bd4b1f5",
   "metadata": {},
   "source": [
    "Dari data bike sharing, data type waktu yang tadinya objek diganti ke format waktu yang sebenarnya menjadi lebih detail dan meminimalisir nilai error. Lalu, kolom holiday memiliki korelasi yang rendah sehingga tidak terlalu mempengaruhi tingkat sewa sepeda."
   ]
  },
  {
   "cell_type": "markdown",
   "id": "2e16f877-9ae5-4d83-aa40-835473e04560",
   "metadata": {},
   "source": [
    "## Recommendation"
   ]
  },
  {
   "cell_type": "markdown",
   "id": "fb93436f-0acd-4876-ae3a-c844069c1d25",
   "metadata": {},
   "source": [
    "Menambahkan data yang lebih valid agar hasil yang didapat juga semakin bagus dan menambahkan jumlah Features agar nilai yang dihasilkan dari Machine Learning juga semakin baik."
   ]
  },
  {
   "cell_type": "markdown",
   "id": "b5780ca0-8244-4b92-9de5-9115d4a5dea1",
   "metadata": {},
   "source": [
    "# Thankyou!!!"
   ]
  }
 ],
 "metadata": {
  "kernelspec": {
   "display_name": "Python 3 (ipykernel)",
   "language": "python",
   "name": "python3"
  },
  "language_info": {
   "codemirror_mode": {
    "name": "ipython",
    "version": 3
   },
   "file_extension": ".py",
   "mimetype": "text/x-python",
   "name": "python",
   "nbconvert_exporter": "python",
   "pygments_lexer": "ipython3",
   "version": "3.9.7"
  }
 },
 "nbformat": 4,
 "nbformat_minor": 5
}
